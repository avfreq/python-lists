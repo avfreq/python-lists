{
 "cells": [
  {
   "cell_type": "code",
   "execution_count": 7,
   "id": "0021eba9",
   "metadata": {},
   "outputs": [],
   "source": [
    "first_list = [\"String\", 1.2, 10]"
   ]
  },
  {
   "cell_type": "code",
   "execution_count": 8,
   "id": "15aa60ae",
   "metadata": {},
   "outputs": [
    {
     "data": {
      "text/plain": [
       "['String', 1.2, 10]"
      ]
     },
     "execution_count": 8,
     "metadata": {},
     "output_type": "execute_result"
    }
   ],
   "source": [
    "first_list"
   ]
  },
  {
   "cell_type": "code",
   "execution_count": 9,
   "id": "b6528811",
   "metadata": {},
   "outputs": [],
   "source": [
    "second_list = [9, 8, 7]"
   ]
  },
  {
   "cell_type": "code",
   "execution_count": 10,
   "id": "77482da8",
   "metadata": {},
   "outputs": [
    {
     "data": {
      "text/plain": [
       "[9, 8, 7]"
      ]
     },
     "execution_count": 10,
     "metadata": {},
     "output_type": "execute_result"
    }
   ],
   "source": [
    "second_list"
   ]
  },
  {
   "cell_type": "code",
   "execution_count": 11,
   "id": "e1fdb12d",
   "metadata": {},
   "outputs": [],
   "source": [
    "concat_list = first_list + second_list"
   ]
  },
  {
   "cell_type": "code",
   "execution_count": 12,
   "id": "11aa717c",
   "metadata": {},
   "outputs": [
    {
     "data": {
      "text/plain": [
       "['String', 1.2, 10, 9, 8, 7]"
      ]
     },
     "execution_count": 12,
     "metadata": {},
     "output_type": "execute_result"
    }
   ],
   "source": [
    "concat_list"
   ]
  },
  {
   "cell_type": "code",
   "execution_count": null,
   "id": "66727ede",
   "metadata": {},
   "outputs": [],
   "source": [
    "# change indexed item inside of list"
   ]
  },
  {
   "cell_type": "code",
   "execution_count": 13,
   "id": "de3e79b7",
   "metadata": {},
   "outputs": [],
   "source": [
    "first_list[0] = \"New string\""
   ]
  },
  {
   "cell_type": "code",
   "execution_count": 14,
   "id": "28b3163d",
   "metadata": {},
   "outputs": [
    {
     "data": {
      "text/plain": [
       "['New string', 1.2, 10]"
      ]
     },
     "execution_count": 14,
     "metadata": {},
     "output_type": "execute_result"
    }
   ],
   "source": [
    "first_list"
   ]
  },
  {
   "cell_type": "code",
   "execution_count": null,
   "id": "7f5c5612",
   "metadata": {},
   "outputs": [],
   "source": []
  }
 ],
 "metadata": {
  "kernelspec": {
   "display_name": "Python 3 (ipykernel)",
   "language": "python",
   "name": "python3"
  },
  "language_info": {
   "codemirror_mode": {
    "name": "ipython",
    "version": 3
   },
   "file_extension": ".py",
   "mimetype": "text/x-python",
   "name": "python",
   "nbconvert_exporter": "python",
   "pygments_lexer": "ipython3",
   "version": "3.9.13"
  }
 },
 "nbformat": 4,
 "nbformat_minor": 5
}
