{
 "cells": [
  {
   "cell_type": "code",
   "execution_count": 7,
   "id": "c24964c1",
   "metadata": {},
   "outputs": [],
   "source": [
    "first_list = [\"String\", 1.2, 10]"
   ]
  },
  {
   "cell_type": "code",
   "execution_count": 8,
   "id": "89a5d64d",
   "metadata": {},
   "outputs": [
    {
     "data": {
      "text/plain": [
       "['String', 1.2, 10]"
      ]
     },
     "execution_count": 8,
     "metadata": {},
     "output_type": "execute_result"
    }
   ],
   "source": [
    "first_list"
   ]
  },
  {
   "cell_type": "code",
   "execution_count": 9,
   "id": "e6e92bc1",
   "metadata": {},
   "outputs": [],
   "source": [
    "second_list = [9, 8, 7]"
   ]
  },
  {
   "cell_type": "code",
   "execution_count": 10,
   "id": "39609ddc",
   "metadata": {},
   "outputs": [
    {
     "data": {
      "text/plain": [
       "[9, 8, 7]"
      ]
     },
     "execution_count": 10,
     "metadata": {},
     "output_type": "execute_result"
    }
   ],
   "source": [
    "second_list"
   ]
  },
  {
   "cell_type": "code",
   "execution_count": 11,
   "id": "1a69e3d4",
   "metadata": {},
   "outputs": [],
   "source": [
    "concat_list = first_list + second_list"
   ]
  },
  {
   "cell_type": "code",
   "execution_count": 12,
   "id": "d480e19d",
   "metadata": {},
   "outputs": [
    {
     "data": {
      "text/plain": [
       "['String', 1.2, 10, 9, 8, 7]"
      ]
     },
     "execution_count": 12,
     "metadata": {},
     "output_type": "execute_result"
    }
   ],
   "source": [
    "concat_list"
   ]
  },
  {
   "cell_type": "code",
   "execution_count": null,
   "id": "8c2ef87d",
   "metadata": {},
   "outputs": [],
   "source": [
    "# change/mutate indexed item inside of list"
   ]
  },
  {
   "cell_type": "code",
   "execution_count": 13,
   "id": "d9ad8144",
   "metadata": {},
   "outputs": [],
   "source": [
    "first_list[0] = \"New string\""
   ]
  },
  {
   "cell_type": "code",
   "execution_count": 14,
   "id": "57fa62aa",
   "metadata": {},
   "outputs": [
    {
     "data": {
      "text/plain": [
       "['New string', 1.2, 10]"
      ]
     },
     "execution_count": 14,
     "metadata": {},
     "output_type": "execute_result"
    }
   ],
   "source": [
    "first_list"
   ]
  },
  {
   "cell_type": "code",
   "execution_count": 15,
   "id": "67747e1c",
   "metadata": {},
   "outputs": [],
   "source": [
    "# add item to end of list"
   ]
  },
  {
   "cell_type": "code",
   "execution_count": 17,
   "id": "32883ca5",
   "metadata": {},
   "outputs": [],
   "source": [
    "concat_list.append(6)"
   ]
  },
  {
   "cell_type": "code",
   "execution_count": 18,
   "id": "98739364",
   "metadata": {},
   "outputs": [
    {
     "data": {
      "text/plain": [
       "['String', 1.2, 10, 9, 8, 7, 6]"
      ]
     },
     "execution_count": 18,
     "metadata": {},
     "output_type": "execute_result"
    }
   ],
   "source": [
    "concat_list"
   ]
  },
  {
   "cell_type": "code",
   "execution_count": 19,
   "id": "80f065a5",
   "metadata": {},
   "outputs": [],
   "source": [
    "# remove an item from a list"
   ]
  },
  {
   "cell_type": "code",
   "execution_count": 20,
   "id": "c479016c",
   "metadata": {},
   "outputs": [
    {
     "data": {
      "text/plain": [
       "6"
      ]
     },
     "execution_count": 20,
     "metadata": {},
     "output_type": "execute_result"
    }
   ],
   "source": [
    "concat_list.pop(6)"
   ]
  },
  {
   "cell_type": "code",
   "execution_count": 21,
   "id": "27410a9d",
   "metadata": {},
   "outputs": [
    {
     "data": {
      "text/plain": [
       "['String', 1.2, 10, 9, 8, 7]"
      ]
     },
     "execution_count": 21,
     "metadata": {},
     "output_type": "execute_result"
    }
   ],
   "source": [
    "concat_list"
   ]
  },
  {
   "cell_type": "code",
   "execution_count": 24,
   "id": "e893d5d1",
   "metadata": {},
   "outputs": [
    {
     "data": {
      "text/plain": [
       "1.2"
      ]
     },
     "execution_count": 24,
     "metadata": {},
     "output_type": "execute_result"
    }
   ],
   "source": [
    "concat_list.pop(1)"
   ]
  },
  {
   "cell_type": "code",
   "execution_count": 25,
   "id": "fd3e3795",
   "metadata": {},
   "outputs": [
    {
     "data": {
      "text/plain": [
       "['String', 10, 9, 8, 7]"
      ]
     },
     "execution_count": 25,
     "metadata": {},
     "output_type": "execute_result"
    }
   ],
   "source": [
    "concat_list"
   ]
  },
  {
   "cell_type": "code",
   "execution_count": null,
   "id": "f8c2446f",
   "metadata": {},
   "outputs": [],
   "source": [
    "newList = ['a', 'e', 'b', ]"
   ]
  }
 ],
 "metadata": {
  "kernelspec": {
   "display_name": "Python 3 (ipykernel)",
   "language": "python",
   "name": "python3"
  },
  "language_info": {
   "codemirror_mode": {
    "name": "ipython",
    "version": 3
   },
   "file_extension": ".py",
   "mimetype": "text/x-python",
   "name": "python",
   "nbconvert_exporter": "python",
   "pygments_lexer": "ipython3",
   "version": "3.9.13"
  }
 },
 "nbformat": 4,
 "nbformat_minor": 5
}
