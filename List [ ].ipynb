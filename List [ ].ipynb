{
 "cells": [
  {
   "cell_type": "code",
   "execution_count": null,
   "id": "9aaffcc8",
   "metadata": {},
   "outputs": [],
   "source": [
    "# Python List[]"
   ]
  },
  {
   "cell_type": "code",
   "execution_count": 7,
   "id": "33f2bae5",
   "metadata": {},
   "outputs": [],
   "source": [
    "first_list = [\"String\", 1.2, 10]"
   ]
  },
  {
   "cell_type": "code",
   "execution_count": 8,
   "id": "0644a421",
   "metadata": {},
   "outputs": [
    {
     "data": {
      "text/plain": [
       "['String', 1.2, 10]"
      ]
     },
     "execution_count": 8,
     "metadata": {},
     "output_type": "execute_result"
    }
   ],
   "source": [
    "first_list"
   ]
  },
  {
   "cell_type": "code",
   "execution_count": 9,
   "id": "3f38e385",
   "metadata": {},
   "outputs": [],
   "source": [
    "second_list = [9, 8, 7]"
   ]
  },
  {
   "cell_type": "code",
   "execution_count": 10,
   "id": "1b3d045f",
   "metadata": {},
   "outputs": [
    {
     "data": {
      "text/plain": [
       "[9, 8, 7]"
      ]
     },
     "execution_count": 10,
     "metadata": {},
     "output_type": "execute_result"
    }
   ],
   "source": [
    "second_list"
   ]
  },
  {
   "cell_type": "code",
   "execution_count": null,
   "id": "8170cdc6",
   "metadata": {},
   "outputs": [],
   "source": [
    "# concatanation"
   ]
  },
  {
   "cell_type": "code",
   "execution_count": 11,
   "id": "53635fd5",
   "metadata": {},
   "outputs": [],
   "source": [
    "concat_list = first_list + second_list"
   ]
  },
  {
   "cell_type": "code",
   "execution_count": 12,
   "id": "88f009a6",
   "metadata": {},
   "outputs": [
    {
     "data": {
      "text/plain": [
       "['String', 1.2, 10, 9, 8, 7]"
      ]
     },
     "execution_count": 12,
     "metadata": {},
     "output_type": "execute_result"
    }
   ],
   "source": [
    "concat_list"
   ]
  },
  {
   "cell_type": "code",
   "execution_count": null,
   "id": "2c56e525",
   "metadata": {},
   "outputs": [],
   "source": [
    "# change indexed item inside of list"
   ]
  },
  {
   "cell_type": "code",
   "execution_count": 13,
   "id": "dc9a5a3d",
   "metadata": {},
   "outputs": [],
   "source": [
    "first_list[0] = \"New string\""
   ]
  },
  {
   "cell_type": "code",
   "execution_count": 14,
   "id": "5880f3a7",
   "metadata": {},
   "outputs": [
    {
     "data": {
      "text/plain": [
       "['New string', 1.2, 10]"
      ]
     },
     "execution_count": 14,
     "metadata": {},
     "output_type": "execute_result"
    }
   ],
   "source": [
    "first_list"
   ]
  },
  {
   "cell_type": "code",
   "execution_count": 1,
   "id": "c0cf39da",
   "metadata": {},
   "outputs": [],
   "source": [
    "# list unpacking"
   ]
  },
  {
   "cell_type": "code",
   "execution_count": 2,
   "id": "aa495dae",
   "metadata": {},
   "outputs": [],
   "source": [
    "listUnpack = [\"hello\", 1, 1.2]"
   ]
  },
  {
   "cell_type": "code",
   "execution_count": 3,
   "id": "b63ec9d9",
   "metadata": {},
   "outputs": [
    {
     "data": {
      "text/plain": [
       "['hello', 1, 1.2]"
      ]
     },
     "execution_count": 3,
     "metadata": {},
     "output_type": "execute_result"
    }
   ],
   "source": [
    "listUnpack"
   ]
  },
  {
   "cell_type": "code",
   "execution_count": 6,
   "id": "d585f172",
   "metadata": {},
   "outputs": [],
   "source": [
    "one, two, three = listUnpack"
   ]
  },
  {
   "cell_type": "code",
   "execution_count": 7,
   "id": "4eddd295",
   "metadata": {},
   "outputs": [
    {
     "data": {
      "text/plain": [
       "'hello'"
      ]
     },
     "execution_count": 7,
     "metadata": {},
     "output_type": "execute_result"
    }
   ],
   "source": [
    "one"
   ]
  },
  {
   "cell_type": "code",
   "execution_count": 8,
   "id": "0da4fe39",
   "metadata": {},
   "outputs": [
    {
     "data": {
      "text/plain": [
       "1"
      ]
     },
     "execution_count": 8,
     "metadata": {},
     "output_type": "execute_result"
    }
   ],
   "source": [
    "two"
   ]
  },
  {
   "cell_type": "code",
   "execution_count": 9,
   "id": "aac9c2b9",
   "metadata": {},
   "outputs": [
    {
     "data": {
      "text/plain": [
       "1.2"
      ]
     },
     "execution_count": 9,
     "metadata": {},
     "output_type": "execute_result"
    }
   ],
   "source": [
    "three"
   ]
  },
  {
   "cell_type": "code",
   "execution_count": null,
   "id": "4739c317",
   "metadata": {},
   "outputs": [],
   "source": [
    "# list indexing"
   ]
  },
  {
   "cell_type": "code",
   "execution_count": 16,
   "id": "a3ef9a99",
   "metadata": {},
   "outputs": [
    {
     "data": {
      "text/plain": [
       "[1, 1.2]"
      ]
     },
     "execution_count": 16,
     "metadata": {},
     "output_type": "execute_result"
    }
   ],
   "source": [
    "listUnpack[1:] #calling item at position 1 to the end of the list using :, example 1:"
   ]
  },
  {
   "cell_type": "code",
   "execution_count": 17,
   "id": "963f44b6",
   "metadata": {},
   "outputs": [],
   "source": [
    "# .append() a new item to the end of the list"
   ]
  },
  {
   "cell_type": "code",
   "execution_count": 18,
   "id": "98a65dc6",
   "metadata": {},
   "outputs": [],
   "source": [
    "appendedList = [1, 2, 3, 4]"
   ]
  },
  {
   "cell_type": "code",
   "execution_count": 20,
   "id": "4b0ea472",
   "metadata": {},
   "outputs": [
    {
     "data": {
      "text/plain": [
       "[1, 2, 3, 4]"
      ]
     },
     "execution_count": 20,
     "metadata": {},
     "output_type": "execute_result"
    }
   ],
   "source": [
    "appendedList"
   ]
  },
  {
   "cell_type": "code",
   "execution_count": 22,
   "id": "6d432410",
   "metadata": {},
   "outputs": [],
   "source": [
    "appendedList.append(5)"
   ]
  },
  {
   "cell_type": "code",
   "execution_count": 23,
   "id": "16dc01ed",
   "metadata": {},
   "outputs": [
    {
     "data": {
      "text/plain": [
       "[1, 2, 3, 4, 5]"
      ]
     },
     "execution_count": 23,
     "metadata": {},
     "output_type": "execute_result"
    }
   ],
   "source": [
    "appendedList"
   ]
  },
  {
   "cell_type": "code",
   "execution_count": null,
   "id": "e3339fa7",
   "metadata": {},
   "outputs": [],
   "source": [
    "# remove items from a list using pop()"
   ]
  },
  {
   "cell_type": "code",
   "execution_count": 24,
   "id": "5a74f2ee",
   "metadata": {},
   "outputs": [],
   "source": [
    "poped_list = [\"cat\", \"dog\", \"mouse\"]"
   ]
  },
  {
   "cell_type": "code",
   "execution_count": 25,
   "id": "24971aa9",
   "metadata": {},
   "outputs": [
    {
     "data": {
      "text/plain": [
       "['cat', 'dog', 'mouse']"
      ]
     },
     "execution_count": 25,
     "metadata": {},
     "output_type": "execute_result"
    }
   ],
   "source": [
    "poped_list"
   ]
  },
  {
   "cell_type": "code",
   "execution_count": 26,
   "id": "a15ac725",
   "metadata": {},
   "outputs": [
    {
     "data": {
      "text/plain": [
       "'dog'"
      ]
     },
     "execution_count": 26,
     "metadata": {},
     "output_type": "execute_result"
    }
   ],
   "source": [
    "poped_list.pop(1)"
   ]
  },
  {
   "cell_type": "code",
   "execution_count": 27,
   "id": "fa510524",
   "metadata": {},
   "outputs": [
    {
     "data": {
      "text/plain": [
       "['cat', 'mouse']"
      ]
     },
     "execution_count": 27,
     "metadata": {},
     "output_type": "execute_result"
    }
   ],
   "source": [
    "poped_list"
   ]
  },
  {
   "cell_type": "code",
   "execution_count": null,
   "id": "c6ca6878",
   "metadata": {},
   "outputs": [],
   "source": [
    "# using the .reverse() function"
   ]
  },
  {
   "cell_type": "code",
   "execution_count": 28,
   "id": "32238f3b",
   "metadata": {},
   "outputs": [],
   "source": [
    "order_list = [4, 6, 2, 7]"
   ]
  },
  {
   "cell_type": "code",
   "execution_count": 29,
   "id": "6044c4f0",
   "metadata": {},
   "outputs": [
    {
     "data": {
      "text/plain": [
       "[4, 6, 2, 7]"
      ]
     },
     "execution_count": 29,
     "metadata": {},
     "output_type": "execute_result"
    }
   ],
   "source": [
    "order_list"
   ]
  },
  {
   "cell_type": "code",
   "execution_count": 30,
   "id": "416820fa",
   "metadata": {},
   "outputs": [],
   "source": [
    "order_list.reverse()"
   ]
  },
  {
   "cell_type": "code",
   "execution_count": 31,
   "id": "f8c34107",
   "metadata": {},
   "outputs": [
    {
     "data": {
      "text/plain": [
       "[7, 2, 6, 4]"
      ]
     },
     "execution_count": 31,
     "metadata": {},
     "output_type": "execute_result"
    }
   ],
   "source": [
    "order_list"
   ]
  },
  {
   "cell_type": "code",
   "execution_count": null,
   "id": "6f7f4910",
   "metadata": {},
   "outputs": [],
   "source": [
    "# using the .sort() function"
   ]
  },
  {
   "cell_type": "code",
   "execution_count": 32,
   "id": "d41770b6",
   "metadata": {},
   "outputs": [],
   "source": [
    "order_list.sort()"
   ]
  },
  {
   "cell_type": "code",
   "execution_count": 33,
   "id": "524a9e3e",
   "metadata": {},
   "outputs": [
    {
     "data": {
      "text/plain": [
       "[2, 4, 6, 7]"
      ]
     },
     "execution_count": 33,
     "metadata": {},
     "output_type": "execute_result"
    }
   ],
   "source": [
    "order_list"
   ]
  },
  {
   "cell_type": "code",
   "execution_count": null,
   "id": "c0162242",
   "metadata": {},
   "outputs": [],
   "source": []
  }
 ],
 "metadata": {
  "kernelspec": {
   "display_name": "Python 3 (ipykernel)",
   "language": "python",
   "name": "python3"
  },
  "language_info": {
   "codemirror_mode": {
    "name": "ipython",
    "version": 3
   },
   "file_extension": ".py",
   "mimetype": "text/x-python",
   "name": "python",
   "nbconvert_exporter": "python",
   "pygments_lexer": "ipython3",
   "version": "3.9.13"
  }
 },
 "nbformat": 4,
 "nbformat_minor": 5
}
